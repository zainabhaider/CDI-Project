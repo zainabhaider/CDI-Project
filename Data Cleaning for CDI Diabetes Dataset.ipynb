{
 "cells": [
  {
   "cell_type": "markdown",
   "metadata": {},
   "source": [
    "Project: **Data Cleaning for the CDC Chronic Disease Indicators (CDI): Diabetes Dataset**\n",
    "\n",
    "This code was written by Zainab Haider\n",
    "\n",
    "Jupyter Notebook/Python\n",
    "\n",
    "Date: 08/24/2020"
   ]
  },
  {
   "cell_type": "markdown",
   "metadata": {},
   "source": [
    "*Library:*"
   ]
  },
  {
   "cell_type": "code",
   "execution_count": 2,
   "metadata": {},
   "outputs": [],
   "source": [
    "import numpy as np\n",
    "import pandas as pd\n",
    "import matplotlib.pyplot as plt\n",
    "from scipy import stats\n",
    "\n",
    "db = pd.read_csv(r'...\\CDI Diabetes.csv')"
   ]
  },
  {
   "cell_type": "code",
   "execution_count": 3,
   "metadata": {},
   "outputs": [
    {
     "data": {
      "text/html": [
       "<div>\n",
       "<style scoped>\n",
       "    .dataframe tbody tr th:only-of-type {\n",
       "        vertical-align: middle;\n",
       "    }\n",
       "\n",
       "    .dataframe tbody tr th {\n",
       "        vertical-align: top;\n",
       "    }\n",
       "\n",
       "    .dataframe thead th {\n",
       "        text-align: right;\n",
       "    }\n",
       "</style>\n",
       "<table border=\"1\" class=\"dataframe\">\n",
       "  <thead>\n",
       "    <tr style=\"text-align: right;\">\n",
       "      <th></th>\n",
       "      <th>YearStart</th>\n",
       "      <th>YearEnd</th>\n",
       "      <th>LocationAbbr</th>\n",
       "      <th>LocationDesc</th>\n",
       "      <th>DataSource</th>\n",
       "      <th>Topic</th>\n",
       "      <th>Question</th>\n",
       "      <th>Response</th>\n",
       "      <th>DataValueUnit</th>\n",
       "      <th>DataValueType</th>\n",
       "      <th>...</th>\n",
       "      <th>LocationID</th>\n",
       "      <th>TopicID</th>\n",
       "      <th>QuestionID</th>\n",
       "      <th>DataValueTypeID</th>\n",
       "      <th>StratificationCategoryID1</th>\n",
       "      <th>StratificationID1</th>\n",
       "      <th>StratificationCategoryID2</th>\n",
       "      <th>StratificationID2</th>\n",
       "      <th>StratificationCategoryID3</th>\n",
       "      <th>StratificationID3</th>\n",
       "    </tr>\n",
       "  </thead>\n",
       "  <tbody>\n",
       "    <tr>\n",
       "      <th>0</th>\n",
       "      <td>2010</td>\n",
       "      <td>2010</td>\n",
       "      <td>VA</td>\n",
       "      <td>Virginia</td>\n",
       "      <td>NVSS</td>\n",
       "      <td>Diabetes</td>\n",
       "      <td>Mortality with diabetic ketoacidosis reported ...</td>\n",
       "      <td>NaN</td>\n",
       "      <td>cases per 100,000</td>\n",
       "      <td>Age-adjusted Rate</td>\n",
       "      <td>...</td>\n",
       "      <td>51</td>\n",
       "      <td>DIA</td>\n",
       "      <td>DIA1_2</td>\n",
       "      <td>AGEADJRATE</td>\n",
       "      <td>RACE</td>\n",
       "      <td>API</td>\n",
       "      <td>NaN</td>\n",
       "      <td>NaN</td>\n",
       "      <td>NaN</td>\n",
       "      <td>NaN</td>\n",
       "    </tr>\n",
       "    <tr>\n",
       "      <th>1</th>\n",
       "      <td>2010</td>\n",
       "      <td>2010</td>\n",
       "      <td>NY</td>\n",
       "      <td>New York</td>\n",
       "      <td>NVSS</td>\n",
       "      <td>Diabetes</td>\n",
       "      <td>Mortality due to diabetes reported as any list...</td>\n",
       "      <td>NaN</td>\n",
       "      <td>NaN</td>\n",
       "      <td>Number</td>\n",
       "      <td>...</td>\n",
       "      <td>36</td>\n",
       "      <td>DIA</td>\n",
       "      <td>DIA1_1</td>\n",
       "      <td>NMBR</td>\n",
       "      <td>RACE</td>\n",
       "      <td>WHT</td>\n",
       "      <td>NaN</td>\n",
       "      <td>NaN</td>\n",
       "      <td>NaN</td>\n",
       "      <td>NaN</td>\n",
       "    </tr>\n",
       "    <tr>\n",
       "      <th>2</th>\n",
       "      <td>2010</td>\n",
       "      <td>2010</td>\n",
       "      <td>OK</td>\n",
       "      <td>Oklahoma</td>\n",
       "      <td>NVSS</td>\n",
       "      <td>Diabetes</td>\n",
       "      <td>Mortality with diabetic ketoacidosis reported ...</td>\n",
       "      <td>NaN</td>\n",
       "      <td>cases per 100,000</td>\n",
       "      <td>Crude Rate</td>\n",
       "      <td>...</td>\n",
       "      <td>40</td>\n",
       "      <td>DIA</td>\n",
       "      <td>DIA1_2</td>\n",
       "      <td>CRDRATE</td>\n",
       "      <td>GENDER</td>\n",
       "      <td>GENF</td>\n",
       "      <td>NaN</td>\n",
       "      <td>NaN</td>\n",
       "      <td>NaN</td>\n",
       "      <td>NaN</td>\n",
       "    </tr>\n",
       "    <tr>\n",
       "      <th>3</th>\n",
       "      <td>2010</td>\n",
       "      <td>2010</td>\n",
       "      <td>NH</td>\n",
       "      <td>New Hampshire</td>\n",
       "      <td>NVSS</td>\n",
       "      <td>Diabetes</td>\n",
       "      <td>Mortality due to diabetes reported as any list...</td>\n",
       "      <td>NaN</td>\n",
       "      <td>cases per 100,000</td>\n",
       "      <td>Crude Rate</td>\n",
       "      <td>...</td>\n",
       "      <td>33</td>\n",
       "      <td>DIA</td>\n",
       "      <td>DIA1_1</td>\n",
       "      <td>CRDRATE</td>\n",
       "      <td>OVERALL</td>\n",
       "      <td>OVR</td>\n",
       "      <td>NaN</td>\n",
       "      <td>NaN</td>\n",
       "      <td>NaN</td>\n",
       "      <td>NaN</td>\n",
       "    </tr>\n",
       "    <tr>\n",
       "      <th>4</th>\n",
       "      <td>2010</td>\n",
       "      <td>2010</td>\n",
       "      <td>AK</td>\n",
       "      <td>Alaska</td>\n",
       "      <td>NVSS</td>\n",
       "      <td>Diabetes</td>\n",
       "      <td>Mortality with diabetic ketoacidosis reported ...</td>\n",
       "      <td>NaN</td>\n",
       "      <td>cases per 100,000</td>\n",
       "      <td>Crude Rate</td>\n",
       "      <td>...</td>\n",
       "      <td>2</td>\n",
       "      <td>DIA</td>\n",
       "      <td>DIA1_2</td>\n",
       "      <td>CRDRATE</td>\n",
       "      <td>RACE</td>\n",
       "      <td>WHT</td>\n",
       "      <td>NaN</td>\n",
       "      <td>NaN</td>\n",
       "      <td>NaN</td>\n",
       "      <td>NaN</td>\n",
       "    </tr>\n",
       "  </tbody>\n",
       "</table>\n",
       "<p>5 rows × 34 columns</p>\n",
       "</div>"
      ],
      "text/plain": [
       "   YearStart  YearEnd LocationAbbr   LocationDesc DataSource     Topic  \\\n",
       "0       2010     2010           VA       Virginia       NVSS  Diabetes   \n",
       "1       2010     2010           NY       New York       NVSS  Diabetes   \n",
       "2       2010     2010           OK       Oklahoma       NVSS  Diabetes   \n",
       "3       2010     2010           NH  New Hampshire       NVSS  Diabetes   \n",
       "4       2010     2010           AK         Alaska       NVSS  Diabetes   \n",
       "\n",
       "                                            Question  Response  \\\n",
       "0  Mortality with diabetic ketoacidosis reported ...       NaN   \n",
       "1  Mortality due to diabetes reported as any list...       NaN   \n",
       "2  Mortality with diabetic ketoacidosis reported ...       NaN   \n",
       "3  Mortality due to diabetes reported as any list...       NaN   \n",
       "4  Mortality with diabetic ketoacidosis reported ...       NaN   \n",
       "\n",
       "       DataValueUnit      DataValueType  ...  LocationID TopicID QuestionID  \\\n",
       "0  cases per 100,000  Age-adjusted Rate  ...          51     DIA     DIA1_2   \n",
       "1                NaN             Number  ...          36     DIA     DIA1_1   \n",
       "2  cases per 100,000         Crude Rate  ...          40     DIA     DIA1_2   \n",
       "3  cases per 100,000         Crude Rate  ...          33     DIA     DIA1_1   \n",
       "4  cases per 100,000         Crude Rate  ...           2     DIA     DIA1_2   \n",
       "\n",
       "  DataValueTypeID  StratificationCategoryID1  StratificationID1  \\\n",
       "0      AGEADJRATE                       RACE                API   \n",
       "1            NMBR                       RACE                WHT   \n",
       "2         CRDRATE                     GENDER               GENF   \n",
       "3         CRDRATE                    OVERALL                OVR   \n",
       "4         CRDRATE                       RACE                WHT   \n",
       "\n",
       "  StratificationCategoryID2 StratificationID2  StratificationCategoryID3  \\\n",
       "0                       NaN               NaN                        NaN   \n",
       "1                       NaN               NaN                        NaN   \n",
       "2                       NaN               NaN                        NaN   \n",
       "3                       NaN               NaN                        NaN   \n",
       "4                       NaN               NaN                        NaN   \n",
       "\n",
       "   StratificationID3  \n",
       "0                NaN  \n",
       "1                NaN  \n",
       "2                NaN  \n",
       "3                NaN  \n",
       "4                NaN  \n",
       "\n",
       "[5 rows x 34 columns]"
      ]
     },
     "execution_count": 3,
     "metadata": {},
     "output_type": "execute_result"
    }
   ],
   "source": [
    "db.head()"
   ]
  },
  {
   "cell_type": "code",
   "execution_count": 4,
   "metadata": {},
   "outputs": [
    {
     "name": "stdout",
     "output_type": "stream",
     "text": [
      "<class 'pandas.core.frame.DataFrame'>\n",
      "RangeIndex: 110251 entries, 0 to 110250\n",
      "Data columns (total 34 columns):\n",
      " #   Column                     Non-Null Count   Dtype  \n",
      "---  ------                     --------------   -----  \n",
      " 0   YearStart                  110251 non-null  int64  \n",
      " 1   YearEnd                    110251 non-null  int64  \n",
      " 2   LocationAbbr               110251 non-null  object \n",
      " 3   LocationDesc               110251 non-null  object \n",
      " 4   DataSource                 110251 non-null  object \n",
      " 5   Topic                      110251 non-null  object \n",
      " 6   Question                   110251 non-null  object \n",
      " 7   Response                   0 non-null       float64\n",
      " 8   DataValueUnit              102310 non-null  object \n",
      " 9   DataValueType              110251 non-null  object \n",
      " 10  DataValue                  60259 non-null   float64\n",
      " 11  DataValueAlt               60259 non-null   object \n",
      " 12  DataValueFootnoteSymbol    51497 non-null   object \n",
      " 13  DatavalueFootnote          51497 non-null   object \n",
      " 14  LowConfidenceLimit         55017 non-null   float64\n",
      " 15  HighConfidenceLimit        55017 non-null   float64\n",
      " 16  StratificationCategory1    110251 non-null  object \n",
      " 17  Stratification1            110251 non-null  object \n",
      " 18  StratificationCategory2    0 non-null       float64\n",
      " 19  Stratification2            0 non-null       float64\n",
      " 20  StratificationCategory3    0 non-null       float64\n",
      " 21  Stratification3            0 non-null       float64\n",
      " 22  GeoLocation                109617 non-null  object \n",
      " 23  ResponseID                 0 non-null       float64\n",
      " 24  LocationID                 110251 non-null  int64  \n",
      " 25  TopicID                    110251 non-null  object \n",
      " 26  QuestionID                 110251 non-null  object \n",
      " 27  DataValueTypeID            110251 non-null  object \n",
      " 28  StratificationCategoryID1  110251 non-null  object \n",
      " 29  StratificationID1          110251 non-null  object \n",
      " 30  StratificationCategoryID2  0 non-null       float64\n",
      " 31  StratificationID2          0 non-null       float64\n",
      " 32  StratificationCategoryID3  0 non-null       float64\n",
      " 33  StratificationID3          0 non-null       float64\n",
      "dtypes: float64(13), int64(3), object(18)\n",
      "memory usage: 28.6+ MB\n"
     ]
    }
   ],
   "source": [
    "db.info()"
   ]
  },
  {
   "cell_type": "code",
   "execution_count": 5,
   "metadata": {},
   "outputs": [
    {
     "name": "stdout",
     "output_type": "stream",
     "text": [
      "Total Number of Entries: 110251\n",
      "Total Number of Columns: 34\n"
     ]
    }
   ],
   "source": [
    "print(\"Total Number of Entries: \" + str(db.shape[0]))\n",
    "print(\"Total Number of Columns: \" + str(db.shape[1]))"
   ]
  },
  {
   "cell_type": "code",
   "execution_count": 6,
   "metadata": {},
   "outputs": [
    {
     "name": "stdout",
     "output_type": "stream",
     "text": [
      "Columns with Missing Data: \n",
      "Response                     110251\n",
      "DataValueUnit                  7941\n",
      "DataValue                     49992\n",
      "DataValueAlt                  49992\n",
      "DataValueFootnoteSymbol       58754\n",
      "DatavalueFootnote             58754\n",
      "LowConfidenceLimit            55234\n",
      "HighConfidenceLimit           55234\n",
      "StratificationCategory2      110251\n",
      "Stratification2              110251\n",
      "StratificationCategory3      110251\n",
      "Stratification3              110251\n",
      "GeoLocation                     634\n",
      "ResponseID                   110251\n",
      "StratificationCategoryID2    110251\n",
      "StratificationID2            110251\n",
      "StratificationCategoryID3    110251\n",
      "StratificationID3            110251\n",
      "dtype: int64\n"
     ]
    }
   ],
   "source": [
    "missing = (db.isnull().sum())\n",
    "print(\"Columns with Missing Data: \")\n",
    "print(missing[missing > 0])"
   ]
  },
  {
   "cell_type": "markdown",
   "metadata": {},
   "source": [
    "If a column is missing all data, then I will delete it."
   ]
  },
  {
   "cell_type": "code",
   "execution_count": 7,
   "metadata": {},
   "outputs": [
    {
     "name": "stdout",
     "output_type": "stream",
     "text": [
      "Total Number of Columns: 24\n",
      "Columns with Missing Data: \n",
      "DataValueUnit               7941\n",
      "DataValue                  49992\n",
      "DataValueAlt               49992\n",
      "DataValueFootnoteSymbol    58754\n",
      "DatavalueFootnote          58754\n",
      "LowConfidenceLimit         55234\n",
      "HighConfidenceLimit        55234\n",
      "GeoLocation                  634\n",
      "dtype: int64\n"
     ]
    }
   ],
   "source": [
    "m = missing.loc[missing == db.shape[0]]\n",
    "allmissing = m.index\n",
    "for k in range(len(allmissing)):\n",
    "    db = db.drop([allmissing[k]], axis=1)\n",
    "    \n",
    "print(\"Total Number of Columns: \" + str(db.shape[1]))\n",
    "print(\"Columns with Missing Data: \")\n",
    "updatedmissing = (db.isnull().sum())\n",
    "print(updatedmissing[missing > 0])"
   ]
  },
  {
   "cell_type": "markdown",
   "metadata": {},
   "source": [
    "Next, I will be deleting columns that contains reduntant information: the Topic and TopicID column. These columns were relevant in the larger CDI dataset to ensure that the data was being attributed to the appropriate disease. However, this dataset is exclusively looking at diabetes data, so we do not need these two columns."
   ]
  },
  {
   "cell_type": "code",
   "execution_count": 8,
   "metadata": {},
   "outputs": [],
   "source": [
    "db = db.drop('Topic', axis=1)\n",
    "db = db.drop('TopicID', axis=1)"
   ]
  },
  {
   "cell_type": "markdown",
   "metadata": {},
   "source": [
    "One thing to note in this dataset is that there are multiple variables being used to express the same information in different way. For example: StratificationCategory1 and StratificationCategoryID1. Both convey the exact same information, so I will delete the \"ID\" type of columns"
   ]
  },
  {
   "cell_type": "markdown",
   "metadata": {},
   "source": [
    "There are four columns for Location that all convey the same information. I will be deleting the Geolocation and LocationID columns, because that information is hard to interpret on their own and do not add value to the dataset."
   ]
  },
  {
   "cell_type": "code",
   "execution_count": 9,
   "metadata": {},
   "outputs": [
    {
     "name": "stdout",
     "output_type": "stream",
     "text": [
      "Number of unique values in LocationAbbr variable: 55\n",
      "Number of unique values in LocationDesc variable: 55\n",
      "Number of unique values in GeoLocation variable: 55\n",
      "Number of unique values in LocationID variable: 55\n"
     ]
    }
   ],
   "source": [
    "print(\"Number of unique values in LocationAbbr variable: \" + str(len(db.LocationAbbr.unique())))\n",
    "print(\"Number of unique values in LocationDesc variable: \" + str(len(db.LocationDesc.unique())))\n",
    "print(\"Number of unique values in GeoLocation variable: \" + str(len(db.GeoLocation.unique())))\n",
    "print(\"Number of unique values in LocationID variable: \" + str(len(db.LocationID.unique())))"
   ]
  },
  {
   "cell_type": "code",
   "execution_count": 10,
   "metadata": {},
   "outputs": [],
   "source": [
    "db = db.drop('GeoLocation', axis=1)\n",
    "db = db.drop('LocationID', axis=1)"
   ]
  },
  {
   "cell_type": "markdown",
   "metadata": {},
   "source": [
    "I will be dropping the Columns: DataValueTypeID, StratificationCategoryID1, StratificationID1, because they are abbrevations for the columns DataValueType, StratificationCategory1, Stratification1 , respectively, and do not contain new/valuable information."
   ]
  },
  {
   "cell_type": "code",
   "execution_count": 11,
   "metadata": {},
   "outputs": [],
   "source": [
    "db = db.drop('DataValueTypeID', axis=1)\n",
    "db = db.drop('StratificationCategoryID1', axis=1)\n",
    "db = db.drop('StratificationID1', axis=1)\n",
    "db = db.drop('DataValueFootnoteSymbol', axis=1)\n",
    "db = db.drop('DataValueAlt', axis=1)\n",
    "db = db.drop('YearEnd', axis=1)"
   ]
  },
  {
   "cell_type": "code",
   "execution_count": 12,
   "metadata": {},
   "outputs": [
    {
     "data": {
      "text/plain": [
       "array(['Mortality with diabetic ketoacidosis reported as any listed cause of death',\n",
       "       'Mortality due to diabetes reported as any listed cause of death',\n",
       "       'Hospitalization with diabetes as a listed diagnosis',\n",
       "       'Prevalence of gestational diabetes',\n",
       "       'Prevalence of pre-pregnancy diabetes',\n",
       "       'Amputation of a lower extremity attributable to diabetes',\n",
       "       'Foot examination among adults aged >= 18 years with diagnosed diabetes',\n",
       "       'Glycosylated hemoglobin measurement among adults aged >= 18 years with diagnosed diabetes',\n",
       "       'Pneumococcal vaccination among noninstitutionalized adults aged >= 65 years with diagnosed diabetes',\n",
       "       'Dilated eye examination among adults aged >= 18 years with diagnosed diabetes',\n",
       "       'Pneumococcal vaccination among noninstitutionalized adults aged 18-64 years with diagnosed diabetes',\n",
       "       'Prevalence of diagnosed diabetes among adults aged >= 18 years',\n",
       "       'Diabetes prevalence among women aged 18-44 years',\n",
       "       'Adults with diagnosed diabetes aged >= 18 years who have taken a diabetes self-management course',\n",
       "       'Prevalence of depressive disorders among adults aged >= 18 years with diagnosed diabetes',\n",
       "       'Prevalence of high blood pressure among adults aged >= 18 years with diagnosed diabetes',\n",
       "       'Prevalence of high cholesterol among adults aged >= 18 years with diagnosed diabetes',\n",
       "       'Influenza vaccination among noninstitutionalized adults aged >= 65 years with diagnosed diabetes',\n",
       "       'Influenza vaccination among noninstitutionalized adults aged 18-64 years with diagnosed diabetes',\n",
       "       'Visits to dentist or dental clinic among adults aged >= 18 years with diagnosed diabetes'],\n",
       "      dtype=object)"
      ]
     },
     "execution_count": 12,
     "metadata": {},
     "output_type": "execute_result"
    }
   ],
   "source": [
    "db.Question.unique()"
   ]
  },
  {
   "cell_type": "markdown",
   "metadata": {},
   "source": [
    "From 2010-2017, each state (and District of Columbia, Virgin Islands, Guam, Puerto Rico) in this dataset has provided data for 20 questions (some with multiple types of answers). These questions are answered based on gender, race/ethnicity, and on an overall basis. Thus, it is more efficient to seperate this data into three groups: overall data, data based on gender, and data based on race/ethnicity.\n"
   ]
  },
  {
   "cell_type": "code",
   "execution_count": 13,
   "metadata": {},
   "outputs": [
    {
     "name": "stdout",
     "output_type": "stream",
     "text": [
      "Number of Questions: 20\n",
      "Number of Stratification Categories: 3\n"
     ]
    }
   ],
   "source": [
    "print(\"Number of Questions: \" + str(db.Question.nunique()))\n",
    "print(\"Number of Stratification Categories: \" + str(db.StratificationCategory1.nunique()))"
   ]
  },
  {
   "cell_type": "code",
   "execution_count": 14,
   "metadata": {},
   "outputs": [],
   "source": [
    "overall_db = db.loc[db.StratificationCategory1 == 'Overall']\n",
    "gender_db = db.loc[db.StratificationCategory1 == 'Gender']\n",
    "race_db = db.loc[db.StratificationCategory1 == 'Race/Ethnicity']"
   ]
  },
  {
   "cell_type": "markdown",
   "metadata": {},
   "source": [
    "Next, I will delete the StratificationCategory1 variable from these new datasets, because this information is now redundant."
   ]
  },
  {
   "cell_type": "code",
   "execution_count": 15,
   "metadata": {},
   "outputs": [],
   "source": [
    "overall_db = overall_db.drop('StratificationCategory1', axis=1)\n",
    "overall_db = overall_db.drop('Stratification1', axis=1)\n",
    "gender_db = gender_db.drop('StratificationCategory1', axis=1)\n",
    "race_db = race_db.drop('StratificationCategory1', axis=1)"
   ]
  },
  {
   "cell_type": "markdown",
   "metadata": {},
   "source": [
    "The next think to look at is how much missing data we have. I am going to start with **Mortality due to diabetes reported as any listed cause of death**. For this, it is actually easier to look at it through the specific stratifications. Makes the data easier to follow.\n",
    "Also, there is no data for multiracial, non-hispanic and other, non-hispanic ethnicities so we are not going to be considering those two ethnicities for mortality due to diabetes"
   ]
  },
  {
   "cell_type": "code",
   "execution_count": 16,
   "metadata": {},
   "outputs": [
    {
     "name": "stdout",
     "output_type": "stream",
     "text": [
      "Missing values for the Question: Mortality due to diabetes reported as any listed cause of death - Age-adjusted Rate\n",
      "Overall:\n"
     ]
    }
   ],
   "source": [
    "print(\"Missing values for the Question: Mortality due to diabetes reported as any listed cause of death - Age-adjusted Rate\")\n",
    "print(\"Overall:\")\n",
    "years = [2010,2011,2012,2013,2014,2015,2016,2017]\n",
    "mortality = overall_db.loc[overall_db.Question == 'Mortality due to diabetes reported as any listed cause of death']\n",
    "for k in range(len(years)):\n",
    "    m = mortality.loc[(mortality.DataValueType == 'Age-adjusted Rate') & (mortality.YearStart == years[k])]\n",
    "    missing = (m['DataValue'].isnull().sum())\n",
    "    if missing != 0:\n",
    "        print(str(years[k]) + \": \" + str(missing))"
   ]
  },
  {
   "cell_type": "code",
   "execution_count": 17,
   "metadata": {},
   "outputs": [
    {
     "name": "stdout",
     "output_type": "stream",
     "text": [
      "Missing values for the Question: Mortality due to diabetes reported as any listed cause of death - Age-adjusted Rate\n",
      "Male:\n",
      "Female:\n"
     ]
    }
   ],
   "source": [
    "print(\"Missing values for the Question: Mortality due to diabetes reported as any listed cause of death - Age-adjusted Rate\")\n",
    "years = [2010,2011,2012,2013,2014,2015,2016,2017]\n",
    "gender = ['Male','Female']\n",
    "\n",
    "for g in range(len(gender)):\n",
    "    print(gender[g] + \":\")\n",
    "    mortality = gender_db.loc[gender_db.Question == 'Mortality due to diabetes reported as any listed cause of death']\n",
    "    for k in range(len(years)):\n",
    "        m = mortality.loc[(mortality.DataValueType == 'Age-adjusted Rate') & (mortality.YearStart == years[k]) & (mortality.Stratification1 == gender[g])]\n",
    "        missing = (m['DataValue'].isnull().sum())\n",
    "        if missing != 0:\n",
    "            print(str(years[k]) + \": \" + str(missing))"
   ]
  },
  {
   "cell_type": "code",
   "execution_count": 18,
   "metadata": {},
   "outputs": [
    {
     "name": "stdout",
     "output_type": "stream",
     "text": [
      "Missing values for the Question: Mortality due to diabetes reported as any listed cause of death - Age-adjusted Rate\n",
      "Asian or Pacific Islander:\n",
      "2010: 23\n",
      "2011: 25\n",
      "2012: 23\n",
      "2013: 23\n",
      "2014: 21\n",
      "2015: 20\n",
      "2016: 17\n",
      "2017: 18\n",
      "White, non-Hispanic:\n",
      "Hispanic:\n",
      "2010: 13\n",
      "2011: 13\n",
      "2012: 12\n",
      "2013: 14\n",
      "2014: 11\n",
      "2015: 12\n",
      "2016: 8\n",
      "2017: 11\n",
      "Black, non-Hispanic:\n",
      "2010: 11\n",
      "2011: 11\n",
      "2012: 11\n",
      "2013: 11\n",
      "2014: 11\n",
      "2015: 11\n",
      "2016: 11\n",
      "2017: 11\n",
      "American Indian or Alaska Native:\n",
      "2010: 32\n",
      "2011: 30\n",
      "2012: 29\n",
      "2013: 28\n",
      "2014: 27\n",
      "2015: 29\n",
      "2016: 28\n",
      "2017: 28\n"
     ]
    }
   ],
   "source": [
    "print(\"Missing values for the Question: Mortality due to diabetes reported as any listed cause of death - Age-adjusted Rate\")\n",
    "years = [2010,2011,2012,2013,2014,2015,2016,2017]\n",
    "ethnicity = ['Asian or Pacific Islander', 'White, non-Hispanic', 'Hispanic',\n",
    "       'Black, non-Hispanic', 'American Indian or Alaska Native']\n",
    "\n",
    "for r in range(len(ethnicity)):\n",
    "    print(ethnicity[r] + \":\")\n",
    "    mortality = race_db.loc[race_db.Question == 'Mortality due to diabetes reported as any listed cause of death']\n",
    "    for k in range(len(years)):\n",
    "        m = mortality.loc[(mortality.DataValueType == 'Age-adjusted Rate') & (mortality.YearStart == years[k]) & (mortality.Stratification1 == ethnicity[r])]\n",
    "        missing = (m['DataValue'].isnull().sum())\n",
    "        if missing != 0:\n",
    "            print(str(years[k]) + \": \" + str(missing))"
   ]
  },
  {
   "cell_type": "markdown",
   "metadata": {},
   "source": [
    "Next: we are going to look at the **Prevalence of diagnosed diabetes among adults aged >= 18 years**\n",
    "\n",
    "There is not much data missing from overall and gender for prevalence of diabetes diagnosis. But, there is some missing data for ethnicity. The only ethnicities with available data are: Black, Multiracial, White, Other, Hispanic."
   ]
  },
  {
   "cell_type": "code",
   "execution_count": 19,
   "metadata": {},
   "outputs": [
    {
     "name": "stdout",
     "output_type": "stream",
     "text": [
      "['Female' 'Male']\n",
      "['Black, non-Hispanic' 'Multiracial, non-Hispanic' 'White, non-Hispanic'\n",
      " 'Other, non-Hispanic' 'Hispanic']\n"
     ]
    }
   ],
   "source": [
    "g = gender_db.loc[gender_db.Question == 'Prevalence of diagnosed diabetes among adults aged >= 18 years']\n",
    "r = race_db.loc[race_db.Question == 'Prevalence of diagnosed diabetes among adults aged >= 18 years']\n",
    "print(g.Stratification1.unique())\n",
    "print(r.Stratification1.unique())"
   ]
  },
  {
   "cell_type": "code",
   "execution_count": 20,
   "metadata": {},
   "outputs": [
    {
     "name": "stdout",
     "output_type": "stream",
     "text": [
      "Missing values for the Question: Prevalence of diabetes - Age-adjusted Prevalence\n",
      "Overall:\n",
      "2011: 1\n",
      "2012: 1\n",
      "2013: 1\n",
      "2014: 1\n",
      "2015: 1\n",
      "2017: 1\n",
      "2018: 1\n"
     ]
    }
   ],
   "source": [
    "print(\"Missing values for the Question: Prevalence of diabetes - Age-adjusted Prevalence\")\n",
    "print(\"Overall:\")\n",
    "years = [2011,2012,2013,2014,2015,2016,2017,2018]\n",
    "prev = overall_db.loc[overall_db.Question == 'Prevalence of diagnosed diabetes among adults aged >= 18 years']\n",
    "for k in range(len(years)):\n",
    "    p = prev.loc[(prev.DataValueType == 'Age-adjusted Prevalence') & (prev.YearStart == years[k])]\n",
    "    missing = (p['DataValue'].isnull().sum())\n",
    "    if missing != 0:\n",
    "        print(str(years[k]) + \": \" + str(missing))"
   ]
  },
  {
   "cell_type": "code",
   "execution_count": 21,
   "metadata": {},
   "outputs": [
    {
     "name": "stdout",
     "output_type": "stream",
     "text": [
      "Missing values for the Question: Prevalence of diabetes - Age-adjusted Prevalence\n",
      "Male:\n",
      "2011: 1\n",
      "2012: 1\n",
      "2013: 1\n",
      "2014: 1\n",
      "2015: 1\n",
      "2017: 1\n",
      "2018: 1\n",
      "Female:\n",
      "2011: 1\n",
      "2012: 1\n",
      "2013: 1\n",
      "2014: 1\n",
      "2015: 1\n",
      "2017: 1\n",
      "2018: 1\n"
     ]
    }
   ],
   "source": [
    "print(\"Missing values for the Question: Prevalence of diabetes - Age-adjusted Prevalence\")\n",
    "years = [2011,2012,2013,2014,2015,2016,2017,2018]\n",
    "gender = ['Male','Female']\n",
    "\n",
    "for g in range(len(gender)):\n",
    "    print(gender[g] + \":\")\n",
    "    prev = gender_db.loc[gender_db.Question == 'Prevalence of diagnosed diabetes among adults aged >= 18 years']\n",
    "    for k in range(len(years)):\n",
    "        p = prev.loc[(prev.DataValueType == 'Age-adjusted Prevalence') & (prev.YearStart == years[k]) & (prev.Stratification1 == gender[g])]\n",
    "        missing = (p['DataValue'].isnull().sum())\n",
    "        if missing != 0:\n",
    "            print(str(years[k]) + \": \" + str(missing))"
   ]
  },
  {
   "cell_type": "code",
   "execution_count": 22,
   "metadata": {},
   "outputs": [
    {
     "name": "stdout",
     "output_type": "stream",
     "text": [
      "Missing values for the Question: Prevalence of diabetes - Age-adjusted Prevalence\n",
      "Black, non-Hispanic:\n",
      "2011: 14\n",
      "2012: 15\n",
      "2013: 14\n",
      "2014: 15\n",
      "2015: 14\n",
      "2016: 15\n",
      "2017: 15\n",
      "2018: 14\n",
      "Multiracial, non-Hispanic:\n",
      "2011: 33\n",
      "2012: 30\n",
      "2013: 28\n",
      "2014: 24\n",
      "2015: 29\n",
      "2016: 23\n",
      "2017: 24\n",
      "2018: 20\n",
      "White, non-Hispanic:\n",
      "2011: 3\n",
      "2012: 3\n",
      "2013: 3\n",
      "2014: 3\n",
      "2015: 3\n",
      "2016: 2\n",
      "2017: 3\n",
      "2018: 3\n",
      "Other, non-Hispanic:\n",
      "2011: 11\n",
      "2012: 12\n",
      "2013: 10\n",
      "2014: 7\n",
      "2015: 8\n",
      "2016: 9\n",
      "2017: 8\n",
      "2018: 8\n",
      "Hispanic:\n",
      "2011: 15\n",
      "2012: 11\n",
      "2013: 16\n",
      "2014: 16\n",
      "2015: 18\n",
      "2016: 15\n",
      "2017: 12\n",
      "2018: 13\n"
     ]
    }
   ],
   "source": [
    "print(\"Missing values for the Question: Prevalence of diabetes - Age-adjusted Prevalence\")\n",
    "ethnicity = ['Black, non-Hispanic', 'Multiracial, non-Hispanic', 'White, non-Hispanic',\n",
    " 'Other, non-Hispanic', 'Hispanic']\n",
    "\n",
    "for r in range(len(ethnicity)):\n",
    "    print(ethnicity[r] + \":\")\n",
    "    prev = race_db.loc[race_db.Question == 'Prevalence of diagnosed diabetes among adults aged >= 18 years']\n",
    "    for k in range(len(years)):\n",
    "        p = prev.loc[(prev.DataValueType == 'Age-adjusted Prevalence') & (prev.YearStart == years[k]) & (prev.Stratification1 == ethnicity[r])]\n",
    "        missing = (p['DataValue'].isnull().sum())\n",
    "        if missing != 0:\n",
    "            print(str(years[k]) + \": \" + str(missing))"
   ]
  },
  {
   "cell_type": "markdown",
   "metadata": {},
   "source": [
    "Next Question: **Glycosylated hemoglobin measurement among adults aged >= 18 years with diagnosed diabetes**\n",
    "\n",
    "Lots of missing data. Missing data for overall, gender, and especially, ethnicity. There is too much missing data for the ethnicity, so, I will NOT be including this Question in my study/analysis."
   ]
  },
  {
   "cell_type": "code",
   "execution_count": 23,
   "metadata": {},
   "outputs": [
    {
     "name": "stdout",
     "output_type": "stream",
     "text": [
      "['Male' 'Female']\n",
      "['Black, non-Hispanic' 'Hispanic' 'Multiracial, non-Hispanic'\n",
      " 'Other, non-Hispanic' 'White, non-Hispanic']\n"
     ]
    }
   ],
   "source": [
    "g = gender_db.loc[gender_db.Question == 'Glycosylated hemoglobin measurement among adults aged >= 18 years with diagnosed diabetes']\n",
    "r = race_db.loc[race_db.Question == 'Glycosylated hemoglobin measurement among adults aged >= 18 years with diagnosed diabetes']\n",
    "print(g.Stratification1.unique())\n",
    "print(r.Stratification1.unique())"
   ]
  },
  {
   "cell_type": "code",
   "execution_count": 24,
   "metadata": {},
   "outputs": [
    {
     "name": "stdout",
     "output_type": "stream",
     "text": [
      "Missing values for the Question: Glycosylated hemoglobin - Age-adjusted Prevalence\n",
      "Overall:\n",
      "2011: 12\n",
      "2012: 19\n",
      "2013: 14\n",
      "2014: 29\n",
      "2015: 15\n",
      "2016: 38\n",
      "2017: 14\n",
      "2018: 34\n"
     ]
    }
   ],
   "source": [
    "print(\"Missing values for the Question: Glycosylated hemoglobin - Age-adjusted Prevalence\")\n",
    "print(\"Overall:\")\n",
    "years = [2011,2012,2013,2014,2015,2016,2017,2018]\n",
    "h1ac = overall_db.loc[overall_db.Question == 'Glycosylated hemoglobin measurement among adults aged >= 18 years with diagnosed diabetes']\n",
    "for k in range(len(years)):\n",
    "    h = h1ac.loc[(h1ac.DataValueType == 'Age-adjusted Prevalence') & (h1ac.YearStart == years[k])]\n",
    "    missing = (h['DataValue'].isnull().sum())\n",
    "    if missing != 0:\n",
    "        print(str(years[k]) + \": \" + str(missing))"
   ]
  },
  {
   "cell_type": "code",
   "execution_count": 25,
   "metadata": {},
   "outputs": [
    {
     "name": "stdout",
     "output_type": "stream",
     "text": [
      "Missing values for the Question: Glycosylated hemoglobin - Age-adjusted Prevalence\n",
      "Male:\n",
      "2011: 12\n",
      "2012: 19\n",
      "2013: 14\n",
      "2014: 29\n",
      "2015: 15\n",
      "2016: 38\n",
      "2017: 14\n",
      "2018: 34\n",
      "Female:\n",
      "2011: 12\n",
      "2012: 19\n",
      "2013: 14\n",
      "2014: 29\n",
      "2015: 15\n",
      "2016: 38\n",
      "2017: 14\n",
      "2018: 34\n"
     ]
    }
   ],
   "source": [
    "print(\"Missing values for the Question: Glycosylated hemoglobin - Age-adjusted Prevalence\")\n",
    "years = [2011,2012,2013,2014,2015,2016,2017,2018]\n",
    "gender = ['Male','Female']\n",
    "\n",
    "for g in range(len(gender)):\n",
    "    print(gender[g] + \":\")\n",
    "    h1ac = gender_db.loc[gender_db.Question == 'Glycosylated hemoglobin measurement among adults aged >= 18 years with diagnosed diabetes']\n",
    "    for k in range(len(years)):\n",
    "        h = h1ac.loc[(h1ac.DataValueType == 'Age-adjusted Prevalence') & (h1ac.YearStart == years[k]) & (h1ac.Stratification1 == gender[g])]\n",
    "        missing = (h['DataValue'].isnull().sum())\n",
    "        if missing != 0:\n",
    "            print(str(years[k]) + \": \" + str(missing))"
   ]
  },
  {
   "cell_type": "code",
   "execution_count": 26,
   "metadata": {},
   "outputs": [
    {
     "name": "stdout",
     "output_type": "stream",
     "text": [
      "Missing values for the Question: Glycosylated hemoglobin - Age-adjusted Prevalence\n",
      "Black, non-Hispanic:\n",
      "2011: 30\n",
      "2012: 34\n",
      "2013: 30\n",
      "2014: 39\n",
      "2015: 34\n",
      "2016: 43\n",
      "2017: 33\n",
      "2018: 44\n",
      "Hispanic:\n",
      "2011: 44\n",
      "2012: 47\n",
      "2013: 44\n",
      "2014: 47\n",
      "2015: 40\n",
      "2016: 51\n",
      "2017: 41\n",
      "2018: 50\n",
      "Multiracial, non-Hispanic:\n",
      "2011: 53\n",
      "2012: 52\n",
      "2013: 52\n",
      "2014: 53\n",
      "2015: 53\n",
      "2016: 54\n",
      "2017: 54\n",
      "2018: 53\n",
      "Other, non-Hispanic:\n",
      "2011: 44\n",
      "2012: 46\n",
      "2013: 44\n",
      "2014: 48\n",
      "2015: 46\n",
      "2016: 52\n",
      "2017: 46\n",
      "2018: 49\n",
      "White, non-Hispanic:\n",
      "2011: 14\n",
      "2012: 21\n",
      "2013: 16\n",
      "2014: 30\n",
      "2015: 16\n",
      "2016: 40\n",
      "2017: 15\n",
      "2018: 35\n"
     ]
    }
   ],
   "source": [
    "print(\"Missing values for the Question: Glycosylated hemoglobin - Age-adjusted Prevalence\")\n",
    "ethnicity = ['Black, non-Hispanic', 'Hispanic', 'Multiracial, non-Hispanic',\n",
    " 'Other, non-Hispanic','White, non-Hispanic']\n",
    "\n",
    "for r in range(len(ethnicity)):\n",
    "    print(ethnicity[r] + \":\")\n",
    "    h1ac = race_db.loc[race_db.Question == 'Glycosylated hemoglobin measurement among adults aged >= 18 years with diagnosed diabetes']\n",
    "    for k in range(len(years)):\n",
    "        h = h1ac.loc[(h1ac.DataValueType == 'Age-adjusted Prevalence') & (h1ac.YearStart == years[k]) & (h1ac.Stratification1 == ethnicity[r])]\n",
    "        missing = (h['DataValue'].isnull().sum())\n",
    "        if missing != 0:\n",
    "            print(str(years[k]) + \": \" + str(missing))"
   ]
  },
  {
   "cell_type": "markdown",
   "metadata": {},
   "source": [
    "Next Question: **Prevalence of high blood pressure among adults aged >= 18 years with diagnosed diabetes**\n",
    "\n",
    "Data only available for the years years 2011,2013,2015,2017.\n",
    "Not too much missing data for overall, gender. \n",
    "But: LOTS of missing data for ethnicity"
   ]
  },
  {
   "cell_type": "code",
   "execution_count": 27,
   "metadata": {},
   "outputs": [
    {
     "name": "stdout",
     "output_type": "stream",
     "text": [
      "['Female' 'Male']\n",
      "['Multiracial, non-Hispanic' 'Black, non-Hispanic' 'White, non-Hispanic'\n",
      " 'Hispanic' 'Other, non-Hispanic']\n"
     ]
    }
   ],
   "source": [
    "g = gender_db.loc[gender_db.Question == 'Prevalence of high blood pressure among adults aged >= 18 years with diagnosed diabetes']\n",
    "r = race_db.loc[race_db.Question == 'Prevalence of high blood pressure among adults aged >= 18 years with diagnosed diabetes']\n",
    "print(g.Stratification1.unique())\n",
    "print(r.Stratification1.unique())"
   ]
  },
  {
   "cell_type": "code",
   "execution_count": 28,
   "metadata": {},
   "outputs": [
    {
     "name": "stdout",
     "output_type": "stream",
     "text": [
      "Missing values for the Question: Prevalence of High Blood Pressue - Age-adjusted Prevalence\n",
      "Overall:\n",
      "2011: 1\n",
      "2013: 1\n",
      "2015: 1\n",
      "2017: 1\n"
     ]
    }
   ],
   "source": [
    "print(\"Missing values for the Question: Prevalence of High Blood Pressue - Age-adjusted Prevalence\")\n",
    "print(\"Overall:\")\n",
    "years = [2011,2013,2015,2017]\n",
    "hbp = overall_db.loc[overall_db.Question == 'Prevalence of high blood pressure among adults aged >= 18 years with diagnosed diabetes']\n",
    "for k in range(len(years)):\n",
    "    h = hbp.loc[(hbp.DataValueType == 'Age-adjusted Prevalence') & (hbp.YearStart == years[k])]\n",
    "    missing = (h['DataValue'].isnull().sum())\n",
    "    if missing != 0:\n",
    "        print(str(years[k]) + \": \" + str(missing))"
   ]
  },
  {
   "cell_type": "code",
   "execution_count": 29,
   "metadata": {},
   "outputs": [
    {
     "name": "stdout",
     "output_type": "stream",
     "text": [
      "Missing values for the Question: Prevalence of High Blood Pressue - Age-adjusted Prevalence\n",
      "Male:\n",
      "2011: 1\n",
      "2013: 1\n",
      "2015: 1\n",
      "2017: 1\n",
      "Female:\n",
      "2011: 1\n",
      "2013: 1\n",
      "2015: 1\n",
      "2017: 1\n"
     ]
    }
   ],
   "source": [
    "print(\"Missing values for the Question: Prevalence of High Blood Pressue - Age-adjusted Prevalence\")\n",
    "years = [2011,2013,2015,2017]\n",
    "gender = ['Male','Female']\n",
    "\n",
    "for g in range(len(gender)):\n",
    "    print(gender[g] + \":\")\n",
    "    hbp = gender_db.loc[gender_db.Question == 'Prevalence of high blood pressure among adults aged >= 18 years with diagnosed diabetes']\n",
    "    for k in range(len(years)):\n",
    "        h = hbp.loc[(hbp.DataValueType == 'Age-adjusted Prevalence') & (hbp.YearStart == years[k]) & (hbp.Stratification1 == gender[g])]\n",
    "        missing = (h['DataValue'].isnull().sum())\n",
    "        if missing != 0:\n",
    "            print(str(years[k]) + \": \" + str(missing))"
   ]
  },
  {
   "cell_type": "code",
   "execution_count": 30,
   "metadata": {},
   "outputs": [
    {
     "name": "stdout",
     "output_type": "stream",
     "text": [
      "Missing values for the Question: Prevalence of High Blood Pressue - Age-adjusted Prevalence\n",
      "Multiracial, non-Hispanic:\n",
      "2011: 48\n",
      "2013: 51\n",
      "2015: 51\n",
      "2017: 52\n",
      "Black, non-Hispanic:\n",
      "2011: 23\n",
      "2013: 23\n",
      "2015: 22\n",
      "2017: 25\n",
      "White, non-Hispanic:\n",
      "2011: 3\n",
      "2013: 3\n",
      "2015: 3\n",
      "2017: 3\n",
      "Hispanic:\n",
      "2011: 36\n",
      "2013: 34\n",
      "2015: 36\n",
      "2017: 33\n",
      "Other, non-Hispanic:\n",
      "2011: 39\n",
      "2013: 33\n",
      "2015: 39\n",
      "2017: 37\n"
     ]
    }
   ],
   "source": [
    "print(\"Missing values for the Question: Prevalence of High Blood Pressue - Age-adjusted Prevalence\")\n",
    "years = [2011,2013,2015,2017]\n",
    "ethnicity = ['Multiracial, non-Hispanic', 'Black, non-Hispanic', 'White, non-Hispanic',\n",
    " 'Hispanic', 'Other, non-Hispanic']\n",
    "\n",
    "for r in range(len(ethnicity)):\n",
    "    print(ethnicity[r] + \":\")\n",
    "    hbp = race_db.loc[race_db.Question == 'Prevalence of high blood pressure among adults aged >= 18 years with diagnosed diabetes']\n",
    "    for k in range(len(years)):\n",
    "        h = hbp.loc[(hbp.DataValueType == 'Age-adjusted Prevalence') & (hbp.YearStart == years[k]) & (hbp.Stratification1 == ethnicity[r])]\n",
    "        missing = (h['DataValue'].isnull().sum())\n",
    "        if missing != 0:\n",
    "            print(str(years[k]) + \": \" + str(missing))     "
   ]
  },
  {
   "cell_type": "markdown",
   "metadata": {},
   "source": [
    "Next Question: **Prevalence of high cholesterol among adults aged >= 18 years with diagnosed diabetes**\n",
    "\n",
    "Just like high blood pressure, this variable has data available for overall and gender, but not ethnicity."
   ]
  },
  {
   "cell_type": "code",
   "execution_count": 31,
   "metadata": {},
   "outputs": [
    {
     "name": "stdout",
     "output_type": "stream",
     "text": [
      "['Male' 'Female']\n",
      "['Black, non-Hispanic' 'Hispanic' 'Multiracial, non-Hispanic'\n",
      " 'Other, non-Hispanic' 'White, non-Hispanic']\n"
     ]
    }
   ],
   "source": [
    "g = gender_db.loc[gender_db.Question == 'Prevalence of high cholesterol among adults aged >= 18 years with diagnosed diabetes']\n",
    "r = race_db.loc[race_db.Question == 'Prevalence of high cholesterol among adults aged >= 18 years with diagnosed diabetes']\n",
    "print(g.Stratification1.unique())\n",
    "print(r.Stratification1.unique())"
   ]
  },
  {
   "cell_type": "code",
   "execution_count": 32,
   "metadata": {},
   "outputs": [
    {
     "name": "stdout",
     "output_type": "stream",
     "text": [
      "Missing values for the Question: Prevalence of High Cholestrol - Age-adjusted Prevalence\n",
      "Overall:\n",
      "2011: 1\n",
      "2013: 1\n",
      "2015: 1\n",
      "2017: 1\n"
     ]
    }
   ],
   "source": [
    "print(\"Missing values for the Question: Prevalence of High Cholestrol - Age-adjusted Prevalence\")\n",
    "print(\"Overall:\")\n",
    "years = [2011,2013,2015,2017]\n",
    "ch = overall_db.loc[overall_db.Question == 'Prevalence of high cholesterol among adults aged >= 18 years with diagnosed diabetes']\n",
    "for k in range(len(years)):\n",
    "    c = ch.loc[(ch.DataValueType == 'Age-adjusted Prevalence') & (ch.YearStart == years[k])]\n",
    "    missing = (c['DataValue'].isnull().sum())\n",
    "    if missing != 0:\n",
    "        print(str(years[k]) + \": \" + str(missing))"
   ]
  },
  {
   "cell_type": "code",
   "execution_count": 33,
   "metadata": {},
   "outputs": [
    {
     "name": "stdout",
     "output_type": "stream",
     "text": [
      "Missing values for the Question: Prevalence of High Cholestrol - Age-adjusted Prevalence\n",
      "Male:\n",
      "2011: 1\n",
      "2013: 1\n",
      "2015: 1\n",
      "2017: 1\n",
      "Female:\n",
      "2011: 1\n",
      "2013: 1\n",
      "2015: 1\n",
      "2017: 1\n"
     ]
    }
   ],
   "source": [
    "print(\"Missing values for the Question: Prevalence of High Cholestrol - Age-adjusted Prevalence\")\n",
    "years = [2011,2013,2015,2017]\n",
    "gender = ['Male','Female']\n",
    "\n",
    "for g in range(len(gender)):\n",
    "    print(gender[g] + \":\")\n",
    "    ch = gender_db.loc[gender_db.Question == 'Prevalence of high cholesterol among adults aged >= 18 years with diagnosed diabetes']\n",
    "    for k in range(len(years)):\n",
    "        c = ch.loc[(ch.DataValueType == 'Age-adjusted Prevalence') & (ch.YearStart == years[k]) & (ch.Stratification1 == gender[g])]\n",
    "        missing = (c['DataValue'].isnull().sum())\n",
    "        if missing != 0:\n",
    "            print(str(years[k]) + \": \" + str(missing))"
   ]
  },
  {
   "cell_type": "code",
   "execution_count": 34,
   "metadata": {},
   "outputs": [
    {
     "name": "stdout",
     "output_type": "stream",
     "text": [
      "Missing values for the Question: Prevalence of High Cholestrol - Age-adjusted Prevalence\n",
      "Black, non-Hispanic:\n",
      "2011: 23\n",
      "2013: 25\n",
      "2015: 23\n",
      "2017: 25\n",
      "Hispanic:\n",
      "2011: 36\n",
      "2013: 37\n",
      "2015: 36\n",
      "2017: 33\n",
      "Multiracial, non-Hispanic:\n",
      "2011: 49\n",
      "2013: 51\n",
      "2015: 51\n",
      "2017: 52\n",
      "Other, non-Hispanic:\n",
      "2011: 39\n",
      "2013: 36\n",
      "2015: 40\n",
      "2017: 38\n",
      "White, non-Hispanic:\n",
      "2011: 3\n",
      "2013: 3\n",
      "2015: 3\n",
      "2017: 3\n"
     ]
    }
   ],
   "source": [
    "print(\"Missing values for the Question: Prevalence of High Cholestrol - Age-adjusted Prevalence\")\n",
    "years = [2011,2013,2015,2017]\n",
    "ethnicity = ['Black, non-Hispanic', 'Hispanic', 'Multiracial, non-Hispanic',\n",
    " 'Other, non-Hispanic','White, non-Hispanic']\n",
    "\n",
    "for r in range(len(ethnicity)):\n",
    "    print(ethnicity[r] + \":\")\n",
    "    ch = race_db.loc[race_db.Question == 'Prevalence of high cholesterol among adults aged >= 18 years with diagnosed diabetes']\n",
    "    for k in range(len(years)):\n",
    "        c = ch.loc[(ch.DataValueType == 'Age-adjusted Prevalence') & (ch.YearStart == years[k]) & (ch.Stratification1 == ethnicity[r])]\n",
    "        missing = (c['DataValue'].isnull().sum())\n",
    "        if missing != 0:\n",
    "            print(str(years[k]) + \": \" + str(missing)) "
   ]
  },
  {
   "cell_type": "markdown",
   "metadata": {},
   "source": [
    "So, I will be looking at the following questions:\n",
    "- Mortality with diabetes reported as any listed cause of death\n",
    "- Prevalence of diagnosed diabetes among adults aged >= 18 years\n",
    "- Prevalence of high blood pressure among adults aged >= 18 years with diagnosed diabetes\n",
    "- Prevalence of high cholesterol among adults aged >= 18 years with diagnosed diabetes"
   ]
  },
  {
   "cell_type": "code",
   "execution_count": 35,
   "metadata": {},
   "outputs": [],
   "source": [
    "overall_db.to_csv(r'...\\Overall_Diabetes_CDI.csv', index=False)\n",
    "gender_db.to_csv(r'...\\Gender_Diabetes_CDI.csv', index=False)\n",
    "race_db.to_csv(r'...\\Race_Diabetes_CDI.csv', index=False)"
   ]
  }
 ],
 "metadata": {
  "kernelspec": {
   "display_name": "Python 3",
   "language": "python",
   "name": "python3"
  },
  "language_info": {
   "codemirror_mode": {
    "name": "ipython",
    "version": 3
   },
   "file_extension": ".py",
   "mimetype": "text/x-python",
   "name": "python",
   "nbconvert_exporter": "python",
   "pygments_lexer": "ipython3",
   "version": "3.7.6"
  }
 },
 "nbformat": 4,
 "nbformat_minor": 4
}
